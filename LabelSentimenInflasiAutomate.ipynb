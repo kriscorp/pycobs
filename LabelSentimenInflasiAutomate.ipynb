{
 "cells": [
  {
   "cell_type": "code",
   "execution_count": 6,
   "id": "8b28875f-f649-493e-afa0-9203fee7b2af",
   "metadata": {},
   "outputs": [
    {
     "name": "stdout",
     "output_type": "stream",
     "text": [
      "🔍 Memproses: output/2025/domestic_inflation_2025_01_V2.xlsx\n",
      "✅ Hasil disimpan ke: output/2025/prediksi_sentimen_ekspektasi_inflasi_2025_01V3.xlsx\n",
      "🔍 Memproses: output/2025/domestic_inflation_2025_02_V2.xlsx\n",
      "✅ Hasil disimpan ke: output/2025/prediksi_sentimen_ekspektasi_inflasi_2025_02V3.xlsx\n",
      "🔍 Memproses: output/2025/domestic_inflation_2025_03_V2.xlsx\n",
      "✅ Hasil disimpan ke: output/2025/prediksi_sentimen_ekspektasi_inflasi_2025_03V3.xlsx\n",
      "❌ File tidak ditemukan: output/2025/domestic_inflation_2025_04_V2.xlsx, skip.\n",
      "❌ File tidak ditemukan: output/2025/domestic_inflation_2025_05_V2.xlsx, skip.\n",
      "❌ File tidak ditemukan: output/2025/domestic_inflation_2025_06_V2.xlsx, skip.\n",
      "❌ File tidak ditemukan: output/2025/domestic_inflation_2025_07_V2.xlsx, skip.\n",
      "❌ File tidak ditemukan: output/2025/domestic_inflation_2025_08_V2.xlsx, skip.\n",
      "❌ File tidak ditemukan: output/2025/domestic_inflation_2025_09_V2.xlsx, skip.\n",
      "❌ File tidak ditemukan: output/2025/domestic_inflation_2025_10_V2.xlsx, skip.\n",
      "❌ File tidak ditemukan: output/2025/domestic_inflation_2025_11_V2.xlsx, skip.\n",
      "❌ File tidak ditemukan: output/2025/domestic_inflation_2025_12_V2.xlsx, skip.\n"
     ]
    }
   ],
   "source": [
    "import pandas as pd\n",
    "from transformers import AutoTokenizer, AutoModelForSequenceClassification\n",
    "import torch\n",
    "import os\n",
    "\n",
    "# 1. Load model dan tokenizer sekali saja\n",
    "model_path = \"Model_IndoBertFinetunedV2\"\n",
    "tokenizer = AutoTokenizer.from_pretrained(model_path)\n",
    "model = AutoModelForSequenceClassification.from_pretrained(model_path)\n",
    "model.eval()\n",
    "\n",
    "# 2. Fungsi prediksi\n",
    "def predict_sentiment(text):\n",
    "    inputs = tokenizer(text, return_tensors=\"pt\", truncation=True, padding=True, max_length=128)\n",
    "    with torch.no_grad():\n",
    "        outputs = model(**inputs)\n",
    "        probs = torch.nn.functional.softmax(outputs.logits, dim=-1)\n",
    "        label = torch.argmax(probs).item()\n",
    "        confidence = probs[0][label].item()\n",
    "    return label, confidence\n",
    "\n",
    "# 3. Loop file dari 02 sampai 12\n",
    "for month in range(1, 13):\n",
    "    file_date = f\"2025_{month:02d}\"\n",
    "    input_file = f\"output/2025/domestic_inflation_{file_date}_V2.xlsx\"\n",
    "    output_file = f\"output/2025/prediksi_sentimen_ekspektasi_inflasi_{file_date}V3.xlsx\"\n",
    "\n",
    "    if not os.path.exists(input_file):\n",
    "        print(f\"❌ File tidak ditemukan: {input_file}, skip.\")\n",
    "        continue\n",
    "\n",
    "    print(f\"🔍 Memproses: {input_file}\")\n",
    "\n",
    "    # 4. Load dan prediksi\n",
    "    df = pd.read_excel(input_file)\n",
    "    df[\"predicted_label\"], df[\"confidence\"] = zip(*df[\"Sentences\"].apply(predict_sentiment))\n",
    "\n",
    "    # 5. Simpan hasil\n",
    "    df.to_excel(output_file, index=False)\n",
    "    print(f\"✅ Hasil disimpan ke: {output_file}\")\n"
   ]
  },
  {
   "cell_type": "code",
   "execution_count": null,
   "id": "ce27ea54-e02d-42fb-bd7f-67528a344cbd",
   "metadata": {},
   "outputs": [],
   "source": []
  },
  {
   "cell_type": "code",
   "execution_count": null,
   "id": "af7a8221-6727-4591-a9ae-1a02133b5aba",
   "metadata": {},
   "outputs": [],
   "source": []
  }
 ],
 "metadata": {
  "kernelspec": {
   "display_name": "Python 3 (ipykernel)",
   "language": "python",
   "name": "python3"
  },
  "language_info": {
   "codemirror_mode": {
    "name": "ipython",
    "version": 3
   },
   "file_extension": ".py",
   "mimetype": "text/x-python",
   "name": "python",
   "nbconvert_exporter": "python",
   "pygments_lexer": "ipython3",
   "version": "3.12.7"
  }
 },
 "nbformat": 4,
 "nbformat_minor": 5
}
