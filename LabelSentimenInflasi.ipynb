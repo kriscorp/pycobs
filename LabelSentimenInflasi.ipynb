{
 "cells": [
  {
   "cell_type": "code",
   "execution_count": 2,
   "id": "7a8ce577-6900-4778-b695-bb64b40eeaec",
   "metadata": {},
   "outputs": [
    {
     "name": "stdout",
     "output_type": "stream",
     "text": [
      "Hasil disimpan ke: output/2021/prediksi_sentimen_ekspektasi_inflasi_2021_01_try2.xlsx\n"
     ]
    }
   ],
   "source": [
    "# Install jika belum\n",
    "# !pip install transformers torch openpyxl\n",
    "\n",
    "import pandas as pd\n",
    "from transformers import AutoTokenizer, AutoModelForSequenceClassification, AutoModel\n",
    "from transformers import BertTokenizer, BertForSequenceClassification\n",
    "\n",
    "import torch\n",
    "\n",
    "# 1. Load data\n",
    "df = pd.read_excel(\"output/2021/domestic_inflation_2021_01.xlsx\")\n",
    "\n",
    "#2. Load model dan tokenizer\n",
    "model_path = \"Model_Finetuned_Aardiiiiy\"\n",
    "tokenizer = AutoTokenizer.from_pretrained(model_path)\n",
    "model = AutoModelForSequenceClassification.from_pretrained(model_path)\n",
    "\n",
    "#tokenizer = AutoTokenizer.from_pretrained(\"siRendy/indobert-analisis-sentimen-review-produk\")\n",
    "#model = AutoModelForSequenceClassification.from_pretrained(\"siRendy/indobert-analisis-sentimen-review-produk\")\n",
    "\n",
    "#tokenizer = AutoTokenizer.from_pretrained(\"Aardiiiiy/indobertweet-base-Indonesian-sentiment-analysis\")\n",
    "#model = AutoModelForSequenceClassification.from_pretrained(\"Aardiiiiy/indobertweet-base-Indonesian-sentiment-analysis\")\n",
    "\n",
    "\n",
    "# 3. Fungsi prediksi\n",
    "def predict_sentiment(text):\n",
    "    inputs = tokenizer(text, return_tensors=\"pt\", truncation=True, padding=True, max_length=128)\n",
    "    with torch.no_grad():\n",
    "        outputs = model(**inputs)\n",
    "        probs = torch.nn.functional.softmax(outputs.logits, dim=-1)\n",
    "        label = torch.argmax(probs).item()\n",
    "        confidence = probs[0][label].item()\n",
    "    return label, confidence\n",
    "\n",
    "# 4. Terapkan prediksi ke seluruh data\n",
    "df[\"predicted_label\"], df[\"confidence\"] = zip(*df[\"Sentences\"].apply(predict_sentiment))\n",
    "\n",
    "# 5. Simpan hasil ke file baru\n",
    "output_file = \"output/2021/prediksi_sentimen_ekspektasi_inflasi_2021_01_try2.xlsx\"\n",
    "df.to_excel(output_file, index=False)\n",
    "print(f\"Hasil disimpan ke: {output_file}\")\n"
   ]
  },
  {
   "cell_type": "markdown",
   "id": "1edec674-c74c-4f0e-bce1-d3c21e11fc4e",
   "metadata": {},
   "source": [
    "###### import os\n",
    "print(os.getcwd())"
   ]
  },
  {
   "cell_type": "code",
   "execution_count": 4,
   "id": "2204e9c7-71d5-4c13-ab62-5e82030519df",
   "metadata": {},
   "outputs": [
    {
     "name": "stdout",
     "output_type": "stream",
     "text": [
      "['.ipynb_checkpoints', 'Alternate Method Tokenizer.ipynb', 'AltFilterInflasi.ipynb', 'filtered_regex_2021_01.xlsx', 'FilterNewsInflasi.ipynb', 'FPTokenize.ipynb', 'FromHeruDIDD', 'input', 'keywords.txt', 'keywords2.txt', 'Kode Filter Konteks Semantik.txt', 'LabelSentimenInflasi.ipynb', 'Model_Sentimen_Inflasi', 'Model_Sentimen_Inflasi.zip', 'output', 'RegexFilterInflasi - Copy.ipynb', 'RegexFilterInflasi.html', 'RegexFilterInflasi.ipynb', 'RegexFilterInflasiCombine.ipynb', 'RegexFilterInflasiCombineV2.ipynb', 'RegexFilterInflasiCombineV3.ipynb', 'results', 'TrainIndoBertEkspektasiInflasi.ipynb', 'tutorial1.ipynb', 'Untitled.ipynb']\n"
     ]
    }
   ],
   "source": [
    "print(os.listdir())"
   ]
  },
  {
   "cell_type": "code",
   "execution_count": null,
   "id": "9dc89b84-9217-4fab-9ee8-8096330a64dc",
   "metadata": {},
   "outputs": [],
   "source": []
  }
 ],
 "metadata": {
  "kernelspec": {
   "display_name": "Python 3 (ipykernel)",
   "language": "python",
   "name": "python3"
  },
  "language_info": {
   "codemirror_mode": {
    "name": "ipython",
    "version": 3
   },
   "file_extension": ".py",
   "mimetype": "text/x-python",
   "name": "python",
   "nbconvert_exporter": "python",
   "pygments_lexer": "ipython3",
   "version": "3.12.9"
  }
 },
 "nbformat": 4,
 "nbformat_minor": 5
}
