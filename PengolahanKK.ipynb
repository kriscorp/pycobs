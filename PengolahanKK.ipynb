{
 "cells": [
  {
   "cell_type": "code",
   "execution_count": 4,
   "id": "afdebb30-8438-467f-b5b5-f3d818e7d862",
   "metadata": {},
   "outputs": [
    {
     "name": "stdout",
     "output_type": "stream",
     "text": [
      "jumlah inflasi naik (2) :47\n",
      "jumlah netral (1) :25\n",
      "jumlah inflasi membaik (1) :16\n",
      "No                   int64\n",
      "Date                object\n",
      "Media               object\n",
      "Author              object\n",
      "Page                object\n",
      "Title               object\n",
      "Colomn              object\n",
      "Sentences           object\n",
      "predicted_label      int64\n",
      "confidence         float64\n",
      "dtype: object\n"
     ]
    }
   ],
   "source": [
    "import pandas as pd\n",
    "\n",
    "# Ganti 'nama_file.xlsx' dengan nama file Excel kamu\n",
    "file_path = 'output/2021/prediksi_sentimen_ekspektasi_inflasi_2021_01V3.xlsx'\n",
    "\n",
    "# Membaca file Excel\n",
    "df2021 = pd.read_excel(file_path)\n",
    "\n",
    "# Menampilkan 5 baris pertama dari data\n",
    "count_2 = (df2021['predicted_label'] == 2).sum()\n",
    "print('jumlah inflasi naik (2) :' + str(count_2))\n",
    "count_1 = (df2021['predicted_label'] == 1).sum()\n",
    "print('jumlah netral (1) :' + str(count_1))\n",
    "count_0 = (df2021['predicted_label'] == 0).sum()\n",
    "print('jumlah inflasi membaik (1) :' + str(count_0))\n",
    "\n",
    "print(df2021.dtypes)"
   ]
  },
  {
   "cell_type": "code",
   "execution_count": 2,
   "id": "b5e11c2c-e0b5-4520-abd2-70a949c11d85",
   "metadata": {},
   "outputs": [
    {
     "name": "stdout",
     "output_type": "stream",
     "text": [
      "jumlah inflasi naik (2) :55\n",
      "jumlah netral (1) :29\n",
      "jumlah inflasi membaik (1) :39\n"
     ]
    }
   ],
   "source": [
    "# Ganti 'nama_file.xlsx' dengan nama file Excel kamu\n",
    "file_path = 'output/2021/prediksi_sentimen_ekspektasi_inflasi_V22021_02.xlsx'\n",
    "\n",
    "# Membaca file Excel\n",
    "df2021 = pd.read_excel(file_path)\n",
    "\n",
    "# Menampilkan 5 baris pertama dari data\n",
    "count_2 = (df2021['predicted_label'] == 2).sum()\n",
    "print('jumlah inflasi naik (2) :' + str(count_2))\n",
    "count_1 = (df2021['predicted_label'] == 1).sum()\n",
    "print('jumlah netral (1) :' + str(count_1))\n",
    "count_0 = (df2021['predicted_label'] == 0).sum()\n",
    "print('jumlah inflasi membaik (1) :' + str(count_0))"
   ]
  },
  {
   "cell_type": "code",
   "execution_count": 7,
   "id": "1fc0df69-e2d6-4485-a01f-68d69294344f",
   "metadata": {},
   "outputs": [
    {
     "name": "stdout",
     "output_type": "stream",
     "text": [
      "jumlah inflasi naik (2) :52\n",
      "jumlah netral (1) :20\n",
      "jumlah inflasi membaik (1) :23\n"
     ]
    }
   ],
   "source": [
    "# Ganti 'nama_file.xlsx' dengan nama file Excel kamu\n",
    "file_path = 'output/2021/prediksi_sentimen_ekspektasi_inflasi_V22021_03.xlsx'\n",
    "\n",
    "# Membaca file Excel\n",
    "df2021 = pd.read_excel(file_path)\n",
    "\n",
    "# Menampilkan 5 baris pertama dari data\n",
    "count_2 = (df2021['predicted_label'] == 2).sum()\n",
    "print('jumlah inflasi naik (2) :' + str(count_2))\n",
    "count_1 = (df2021['predicted_label'] == 1).sum()\n",
    "print('jumlah netral (1) :' + str(count_1))\n",
    "count_0 = (df2021['predicted_label'] == 0).sum()\n",
    "print('jumlah inflasi membaik (1) :' + str(count_0))"
   ]
  },
  {
   "cell_type": "code",
   "execution_count": 8,
   "id": "3db0e2da-77fd-43f3-90ab-0c80ee2422eb",
   "metadata": {},
   "outputs": [
    {
     "name": "stdout",
     "output_type": "stream",
     "text": [
      "jumlah inflasi naik (2) :42\n",
      "jumlah netral (1) :18\n",
      "jumlah inflasi membaik (1) :20\n"
     ]
    }
   ],
   "source": [
    "# Ganti 'nama_file.xlsx' dengan nama file Excel kamu\n",
    "file_path = 'output/2021/prediksi_sentimen_ekspektasi_inflasi_V22021_04.xlsx'\n",
    "\n",
    "# Membaca file Excel\n",
    "df2021 = pd.read_excel(file_path)\n",
    "\n",
    "# Menampilkan 5 baris pertama dari data\n",
    "count_2 = (df2021['predicted_label'] == 2).sum()\n",
    "print('jumlah inflasi naik (2) :' + str(count_2))\n",
    "count_1 = (df2021['predicted_label'] == 1).sum()\n",
    "print('jumlah netral (1) :' + str(count_1))\n",
    "count_0 = (df2021['predicted_label'] == 0).sum()\n",
    "print('jumlah inflasi membaik (1) :' + str(count_0))"
   ]
  },
  {
   "cell_type": "code",
   "execution_count": 9,
   "id": "921b6a85-bd8e-4187-9d08-d9a8ae60b9c8",
   "metadata": {},
   "outputs": [
    {
     "name": "stdout",
     "output_type": "stream",
     "text": [
      "jumlah inflasi naik (2) :60\n",
      "jumlah netral (1) :17\n",
      "jumlah inflasi membaik (1) :26\n"
     ]
    }
   ],
   "source": [
    "# Ganti 'nama_file.xlsx' dengan nama file Excel kamu\n",
    "file_path = 'output/2021/prediksi_sentimen_ekspektasi_inflasi_V22021_05.xlsx'\n",
    "\n",
    "# Membaca file Excel\n",
    "df2021 = pd.read_excel(file_path)\n",
    "\n",
    "# Menampilkan 5 baris pertama dari data\n",
    "count_2 = (df2021['predicted_label'] == 2).sum()\n",
    "print('jumlah inflasi naik (2) :' + str(count_2))\n",
    "count_1 = (df2021['predicted_label'] == 1).sum()\n",
    "print('jumlah netral (1) :' + str(count_1))\n",
    "count_0 = (df2021['predicted_label'] == 0).sum()\n",
    "print('jumlah inflasi membaik (1) :' + str(count_0))"
   ]
  },
  {
   "cell_type": "code",
   "execution_count": 10,
   "id": "2a2a6b91-d302-471d-bea5-b9b232666130",
   "metadata": {},
   "outputs": [
    {
     "name": "stdout",
     "output_type": "stream",
     "text": [
      "jumlah inflasi naik (2) :63\n",
      "jumlah netral (1) :26\n",
      "jumlah inflasi membaik (1) :23\n"
     ]
    }
   ],
   "source": [
    "# Ganti 'nama_file.xlsx' dengan nama file Excel kamu\n",
    "file_path = 'output/2021/prediksi_sentimen_ekspektasi_inflasi_V22021_06.xlsx'\n",
    "\n",
    "# Membaca file Excel\n",
    "df2021 = pd.read_excel(file_path)\n",
    "\n",
    "# Menampilkan 5 baris pertama dari data\n",
    "count_2 = (df2021['predicted_label'] == 2).sum()\n",
    "print('jumlah inflasi naik (2) :' + str(count_2))\n",
    "count_1 = (df2021['predicted_label'] == 1).sum()\n",
    "print('jumlah netral (1) :' + str(count_1))\n",
    "count_0 = (df2021['predicted_label'] == 0).sum()\n",
    "print('jumlah inflasi membaik (1) :' + str(count_0))"
   ]
  },
  {
   "cell_type": "code",
   "execution_count": 11,
   "id": "b8f2fdbb-88dd-4935-aee2-c11abd870153",
   "metadata": {},
   "outputs": [
    {
     "name": "stdout",
     "output_type": "stream",
     "text": [
      "jumlah inflasi naik (2) :53\n",
      "jumlah netral (1) :26\n",
      "jumlah inflasi membaik (1) :20\n"
     ]
    }
   ],
   "source": [
    "# Ganti 'nama_file.xlsx' dengan nama file Excel kamu\n",
    "file_path = 'output/2021/prediksi_sentimen_ekspektasi_inflasi_V22021_07.xlsx'\n",
    "\n",
    "# Membaca file Excel\n",
    "df2021 = pd.read_excel(file_path)\n",
    "\n",
    "# Menampilkan 5 baris pertama dari data\n",
    "count_2 = (df2021['predicted_label'] == 2).sum()\n",
    "print('jumlah inflasi naik (2) :' + str(count_2))\n",
    "count_1 = (df2021['predicted_label'] == 1).sum()\n",
    "print('jumlah netral (1) :' + str(count_1))\n",
    "count_0 = (df2021['predicted_label'] == 0).sum()\n",
    "print('jumlah inflasi membaik (1) :' + str(count_0))"
   ]
  },
  {
   "cell_type": "code",
   "execution_count": 12,
   "id": "f939ef0f-3612-4547-aad2-17ef6815da12",
   "metadata": {},
   "outputs": [
    {
     "name": "stdout",
     "output_type": "stream",
     "text": [
      "jumlah inflasi naik (2) :53\n",
      "jumlah netral (1) :27\n",
      "jumlah inflasi membaik (1) :47\n"
     ]
    }
   ],
   "source": [
    "# Ganti 'nama_file.xlsx' dengan nama file Excel kamu\n",
    "file_path = 'output/2021/prediksi_sentimen_ekspektasi_inflasi_V22021_08.xlsx'\n",
    "\n",
    "# Membaca file Excel\n",
    "df2021 = pd.read_excel(file_path)\n",
    "\n",
    "# Menampilkan 5 baris pertama dari data\n",
    "count_2 = (df2021['predicted_label'] == 2).sum()\n",
    "print('jumlah inflasi naik (2) :' + str(count_2))\n",
    "count_1 = (df2021['predicted_label'] == 1).sum()\n",
    "print('jumlah netral (1) :' + str(count_1))\n",
    "count_0 = (df2021['predicted_label'] == 0).sum()\n",
    "print('jumlah inflasi membaik (1) :' + str(count_0))"
   ]
  },
  {
   "cell_type": "code",
   "execution_count": 13,
   "id": "b14ffa7b-8847-46e3-920d-9e71d3424d56",
   "metadata": {},
   "outputs": [
    {
     "name": "stdout",
     "output_type": "stream",
     "text": [
      "jumlah inflasi naik (2) :41\n",
      "jumlah netral (1) :26\n",
      "jumlah inflasi membaik (1) :19\n"
     ]
    }
   ],
   "source": [
    "# Ganti 'nama_file.xlsx' dengan nama file Excel kamu\n",
    "file_path = 'output/2021/prediksi_sentimen_ekspektasi_inflasi_V22021_09.xlsx'\n",
    "\n",
    "# Membaca file Excel\n",
    "df2021 = pd.read_excel(file_path)\n",
    "\n",
    "# Menampilkan 5 baris pertama dari data\n",
    "count_2 = (df2021['predicted_label'] == 2).sum()\n",
    "print('jumlah inflasi naik (2) :' + str(count_2))\n",
    "count_1 = (df2021['predicted_label'] == 1).sum()\n",
    "print('jumlah netral (1) :' + str(count_1))\n",
    "count_0 = (df2021['predicted_label'] == 0).sum()\n",
    "print('jumlah inflasi membaik (1) :' + str(count_0))"
   ]
  },
  {
   "cell_type": "code",
   "execution_count": 14,
   "id": "e997bb5a-ce47-44e0-942f-ffc3b8e9167c",
   "metadata": {},
   "outputs": [
    {
     "name": "stdout",
     "output_type": "stream",
     "text": [
      "jumlah inflasi naik (2) :100\n",
      "jumlah netral (1) :21\n",
      "jumlah inflasi membaik (1) :26\n"
     ]
    }
   ],
   "source": [
    "# Ganti 'nama_file.xlsx' dengan nama file Excel kamu\n",
    "file_path = 'output/2021/prediksi_sentimen_ekspektasi_inflasi_V22021_10.xlsx'\n",
    "\n",
    "# Membaca file Excel\n",
    "df2021 = pd.read_excel(file_path)\n",
    "\n",
    "# Menampilkan 5 baris pertama dari data\n",
    "count_2 = (df2021['predicted_label'] == 2).sum()\n",
    "print('jumlah inflasi naik (2) :' + str(count_2))\n",
    "count_1 = (df2021['predicted_label'] == 1).sum()\n",
    "print('jumlah netral (1) :' + str(count_1))\n",
    "count_0 = (df2021['predicted_label'] == 0).sum()\n",
    "print('jumlah inflasi membaik (1) :' + str(count_0))"
   ]
  },
  {
   "cell_type": "code",
   "execution_count": 15,
   "id": "a144afe2-256c-4744-a819-89ea99cc3b52",
   "metadata": {},
   "outputs": [
    {
     "name": "stdout",
     "output_type": "stream",
     "text": [
      "jumlah inflasi naik (2) :87\n",
      "jumlah netral (1) :42\n",
      "jumlah inflasi membaik (1) :40\n"
     ]
    }
   ],
   "source": [
    "# Ganti 'nama_file.xlsx' dengan nama file Excel kamu\n",
    "file_path = 'output/2021/prediksi_sentimen_ekspektasi_inflasi_V22021_11.xlsx'\n",
    "\n",
    "# Membaca file Excel\n",
    "df2021 = pd.read_excel(file_path)\n",
    "\n",
    "# Menampilkan 5 baris pertama dari data\n",
    "count_2 = (df2021['predicted_label'] == 2).sum()\n",
    "print('jumlah inflasi naik (2) :' + str(count_2))\n",
    "count_1 = (df2021['predicted_label'] == 1).sum()\n",
    "print('jumlah netral (1) :' + str(count_1))\n",
    "count_0 = (df2021['predicted_label'] == 0).sum()\n",
    "print('jumlah inflasi membaik (1) :' + str(count_0))"
   ]
  },
  {
   "cell_type": "code",
   "execution_count": 16,
   "id": "8eb05734-36a5-43f6-8d0e-d3a7391edb5b",
   "metadata": {},
   "outputs": [
    {
     "name": "stdout",
     "output_type": "stream",
     "text": [
      "jumlah inflasi naik (2) :76\n",
      "jumlah netral (1) :37\n",
      "jumlah inflasi membaik (1) :40\n"
     ]
    }
   ],
   "source": [
    "# Ganti 'nama_file.xlsx' dengan nama file Excel kamu\n",
    "file_path = 'output/2021/prediksi_sentimen_ekspektasi_inflasi_V22021_12.xlsx'\n",
    "\n",
    "# Membaca file Excel\n",
    "df2021 = pd.read_excel(file_path)\n",
    "\n",
    "# Menampilkan 5 baris pertama dari data\n",
    "count_2 = (df2021['predicted_label'] == 2).sum()\n",
    "print('jumlah inflasi naik (2) :' + str(count_2))\n",
    "count_1 = (df2021['predicted_label'] == 1).sum()\n",
    "print('jumlah netral (1) :' + str(count_1))\n",
    "count_0 = (df2021['predicted_label'] == 0).sum()\n",
    "print('jumlah inflasi membaik (1) :' + str(count_0))"
   ]
  },
  {
   "cell_type": "code",
   "execution_count": 25,
   "id": "2e2fee6c-7bfe-43fd-8509-d66d81ab35f6",
   "metadata": {},
   "outputs": [
    {
     "name": "stdout",
     "output_type": "stream",
     "text": [
      "jumlah positif (1) :65\n",
      "jumlah negatif (0) :104\n"
     ]
    }
   ],
   "source": [
    "# Ganti 'nama_file.xlsx' dengan nama file Excel kamu\n",
    "file_path = 'output/2022/prediksi_sentimen_ekspektasi_inflasi_V22022_12.xlsx'\n",
    "\n",
    "# Membaca file Excel\n",
    "df2021 = pd.read_excel(file_path)\n",
    "\n",
    "# Menampilkan 5 baris pertama dari data\n",
    "count_2 = (df2021['predicted_label'] == 2).sum()\n",
    "print('jumlah inflasi naik (2) :' + str(count_2))\n",
    "count_1 = (df2021['predicted_label'] == 1).sum()\n",
    "print('jumlah netral (1) :' + str(count_1))\n",
    "count_0 = (df2021['predicted_label'] == 0).sum()\n",
    "print('jumlah inflasi membaik (1) :' + str(count_0))"
   ]
  },
  {
   "cell_type": "code",
   "execution_count": 26,
   "id": "dc418d6b-a7c7-4b4b-b963-12a984244abd",
   "metadata": {},
   "outputs": [
    {
     "name": "stdout",
     "output_type": "stream",
     "text": [
      "jumlah positif (1) :51\n",
      "jumlah negatif (0) :102\n"
     ]
    }
   ],
   "source": [
    "# Ganti 'nama_file.xlsx' dengan nama file Excel kamu\n",
    "file_path = 'output/2021/prediksi_sentimen_ekspektasi_inflasi_2021_12.xlsx'\n",
    "# Membaca file Excel\n",
    "df2021 = pd.read_excel(file_path)\n",
    "\n",
    "count_1 = (df2021['predicted_label'] == 1).sum()\n",
    "print('jumlah positif (1) :' + str(count_1))\n",
    "count_0 = (df2021['predicted_label'] == 0).sum()\n",
    "print('jumlah negatif (0) :' + str(count_0))"
   ]
  },
  {
   "cell_type": "code",
   "execution_count": 2,
   "id": "930bec2f-4fbf-4dcd-bd75-158e23ae9dac",
   "metadata": {},
   "outputs": [
    {
     "name": "stdout",
     "output_type": "stream",
     "text": [
      "❌ File tidak ditemukan: output/2025\\prediksi_sentimen_ekspektasi_inflasi_2025_04V3.xlsx\n",
      "Total data gabungan: 7576 baris\n"
     ]
    }
   ],
   "source": [
    "import pandas as pd\n",
    "import os\n",
    "\n",
    "# Inisialisasi list untuk menyimpan data dari semua file\n",
    "all_data = []\n",
    "\n",
    "# Loop tahun dari 2021 sampai 2025\n",
    "for year in range(2021, 2026):\n",
    "    # Tentukan bulan akhir\n",
    "    last_month = 12 if year < 2025 else 4\n",
    "    \n",
    "    # Loop bulan\n",
    "    for month in range(1, last_month + 1):\n",
    "        folder_path = f'output/{year}'\n",
    "        file_name = f'prediksi_sentimen_ekspektasi_inflasi_{year}_{month:02}V3.xlsx'\n",
    "        file_path = os.path.join(folder_path, file_name)\n",
    "        \n",
    "        try:\n",
    "            # Membaca file Excel\n",
    "            df = pd.read_excel(file_path)\n",
    "            \n",
    "            # Tambahkan info tahun dan bulan ke DataFrame\n",
    "            df['year'] = year\n",
    "            df['month'] = month\n",
    "            \n",
    "            # Tambahkan ke list\n",
    "            all_data.append(df)\n",
    "        except FileNotFoundError:\n",
    "            print(f'❌ File tidak ditemukan: {file_path}')\n",
    "        except Exception as e:\n",
    "            print(f'⚠️ Gagal membaca {file_path}: {e}')\n",
    "\n",
    "# Gabungkan semua DataFrame menjadi satu\n",
    "df_combined = pd.concat(all_data, ignore_index=True)\n",
    "\n",
    "# Tampilkan ringkasan\n",
    "print(f\"Total data gabungan: {len(df_combined)} baris\")\n",
    "\n",
    "# Simpan ke Excel\n",
    "df_combined.to_excel(\"output/prediksi_sentimen_2021_2025_gabungan.xlsx\", index=False)\n",
    "\n",
    "# Atau simpan ke CSV\n",
    "# df_combined.to_csv(\"output/prediksi_sentimen_2021_2025_gabungan.csv\", index=False)\n"
   ]
  },
  {
   "cell_type": "code",
   "execution_count": null,
   "id": "4e6d79de-dad7-4043-8bdd-88e10cb720a3",
   "metadata": {},
   "outputs": [],
   "source": []
  }
 ],
 "metadata": {
  "kernelspec": {
   "display_name": "Python 3 (ipykernel)",
   "language": "python",
   "name": "python3"
  },
  "language_info": {
   "codemirror_mode": {
    "name": "ipython",
    "version": 3
   },
   "file_extension": ".py",
   "mimetype": "text/x-python",
   "name": "python",
   "nbconvert_exporter": "python",
   "pygments_lexer": "ipython3",
   "version": "3.12.7"
  }
 },
 "nbformat": 4,
 "nbformat_minor": 5
}
