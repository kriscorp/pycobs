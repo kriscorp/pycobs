{
 "cells": [
  {
   "cell_type": "code",
   "execution_count": 1,
   "id": "bd74a3f6",
   "metadata": {},
   "outputs": [
    {
     "name": "stdout",
     "output_type": "stream",
     "text": [
      "D:\\Anaconda\\python.exe\n",
      "3.12.7 | packaged by Anaconda, Inc. | (main, Oct  4 2024, 13:17:27) [MSC v.1929 64 bit (AMD64)]\n"
     ]
    }
   ],
   "source": [
    "import sys\n",
    "print(sys.executable)\n",
    "print(sys.version)"
   ]
  },
  {
   "cell_type": "code",
   "execution_count": 2,
   "id": "778495f4",
   "metadata": {},
   "outputs": [],
   "source": [
    "import os\n",
    "import re\n",
    "import pandas as pd\n",
    "\n",
    "def tokenize_and_save(input_folder, output_folder, input_month):\n",
    "    # List all files that match from the input folder\n",
    "    all_files = [os.path.join(input_folder, f) for f in os.listdir(input_folder) if f.endswith('.xls') and f'cyberlib_raw_{input_month}' in f]\n",
    "\n",
    "    # Print found files\n",
    "    print(f\"Detected files: {all_files}\")\n",
    "\n",
    "    # Initialize a list to collect all DataFrames\n",
    "    list_of_dfs = []\n",
    "\n",
    "    def tokenize_content(text):\n",
    "        sentences = re.split(r'(?<=[.!?])\\s+', str(text))\n",
    "        return sentences\n",
    "\n",
    "    for file_path in all_files:\n",
    "        print(f\"Processing: {file_path}\")\n",
    "        try:\n",
    "            try:\n",
    "                # First, try reading as true Excel\n",
    "                df = pd.read_excel(file_path, engine='xlrd')\n",
    "                print(\"Read as Excel.\")\n",
    "            except Exception as e:\n",
    "                print(f\"⚠️ Excel read failed: {e}. Trying HTML read...\")\n",
    "                # If fail, try reading as HTML table\n",
    "                html_tables = pd.read_html(file_path)\n",
    "                if len(html_tables) == 0:\n",
    "                    print(f\"No table found in {file_path}, skipping.\")\n",
    "                    continue\n",
    "                df = html_tables[0]\n",
    "                print(\"Read as HTML.\")\n",
    "\n",
    "            if 'Content' not in df.columns:\n",
    "                print(f\"'Content' column not found in {file_path}, skipping.\")\n",
    "                continue\n",
    "\n",
    "            # Tokenize\n",
    "            df['Sentences'] = df['Content'].apply(tokenize_content)\n",
    "            df = df.drop(columns=['Content'])\n",
    "            df_exploded = df.explode('Sentences').reset_index(drop=True)\n",
    "\n",
    "            list_of_dfs.append(df_exploded)\n",
    "\n",
    "        except Exception as e:\n",
    "            print(f\"⚠️ Failed to process {file_path}: {e}\")\n",
    "            continue\n",
    "\n",
    "    # === Save the combined result ===\n",
    "    if list_of_dfs:\n",
    "        combined_df = pd.concat(list_of_dfs, ignore_index=True)\n",
    "\n",
    "        os.makedirs(output_folder, exist_ok=True)\n",
    "        output_file = os.path.join(output_folder, f'tokenized_{input_month.replace('-', '_')}.xlsx')\n",
    "        #combined_df.to_excel(output_file, index=False)\n",
    "        output_file = output_file.replace('.xlsx', '.csv')\n",
    "        combined_df.to_csv(output_file, index=False)\n",
    "\n",
    "        print(f\"✅ Tokenized combined file saved successfully to: {output_file}\")\n",
    "    else:\n",
    "        print(f\"⚠️ No data to save for {input_month}.\")"
   ]
  },
  {
   "cell_type": "code",
   "execution_count": 4,
   "id": "481486e8",
   "metadata": {},
   "outputs": [
    {
     "name": "stdout",
     "output_type": "stream",
     "text": [
      "Detected files: ['input\\\\cyberlib\\\\2020\\\\cyberlib_raw_2020-02-01.xls', 'input\\\\cyberlib\\\\2020\\\\cyberlib_raw_2020-02-18.xls']\n",
      "Processing: input\\cyberlib\\2020\\cyberlib_raw_2020-02-01.xls\n",
      "⚠️ Excel read failed: Unsupported format, or corrupt file: Expected BOF record; found b'<table b'. Trying HTML read...\n",
      "Read as HTML.\n",
      "Processing: input\\cyberlib\\2020\\cyberlib_raw_2020-02-18.xls\n",
      "⚠️ Excel read failed: Unsupported format, or corrupt file: Expected BOF record; found b'<table b'. Trying HTML read...\n",
      "Read as HTML.\n",
      "✅ Tokenized combined file saved successfully to: output\\2020\\tokenized_2020_02.csv\n"
     ]
    }
   ],
   "source": [
    "# Example usage:\n",
    "input_folder = os.path.join('input', 'cyberlib', '2020')\n",
    "output_folder = os.path.join('output', '2020')\n",
    "input_month = '2020-02'\n",
    "tokenize_and_save(input_folder, output_folder, input_month)"
   ]
  },
  {
   "cell_type": "code",
   "execution_count": null,
   "id": "18e698bc",
   "metadata": {},
   "outputs": [],
   "source": []
  }
 ],
 "metadata": {
  "kernelspec": {
   "display_name": "Python 3 (ipykernel)",
   "language": "python",
   "name": "python3"
  },
  "language_info": {
   "codemirror_mode": {
    "name": "ipython",
    "version": 3
   },
   "file_extension": ".py",
   "mimetype": "text/x-python",
   "name": "python",
   "nbconvert_exporter": "python",
   "pygments_lexer": "ipython3",
   "version": "3.12.7"
  }
 },
 "nbformat": 4,
 "nbformat_minor": 5
}
