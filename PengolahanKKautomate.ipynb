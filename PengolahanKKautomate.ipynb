{
 "cells": [
  {
   "cell_type": "code",
   "execution_count": 4,
   "id": "afdebb30-8438-467f-b5b5-f3d818e7d862",
   "metadata": {},
   "outputs": [
    {
     "name": "stdout",
     "output_type": "stream",
     "text": [
      "Bulan 01:\n",
      "  Jumlah inflasi naik (2): 76\n",
      "  Jumlah netral (1): 21\n",
      "  Jumlah inflasi membaik (0): 5\n",
      "\n",
      "Bulan 02:\n",
      "  Jumlah inflasi naik (2): 76\n",
      "  Jumlah netral (1): 24\n",
      "  Jumlah inflasi membaik (0): 18\n",
      "\n",
      "Bulan 03:\n",
      "  Jumlah inflasi naik (2): 105\n",
      "  Jumlah netral (1): 56\n",
      "  Jumlah inflasi membaik (0): 22\n",
      "\n",
      "Bulan 04:\n",
      "  Jumlah inflasi naik (2): 114\n",
      "  Jumlah netral (1): 22\n",
      "  Jumlah inflasi membaik (0): 12\n",
      "\n",
      "Bulan 05:\n",
      "  Jumlah inflasi naik (2): 70\n",
      "  Jumlah netral (1): 20\n",
      "  Jumlah inflasi membaik (0): 9\n",
      "\n",
      "Bulan 06:\n",
      "  Jumlah inflasi naik (2): 64\n",
      "  Jumlah netral (1): 25\n",
      "  Jumlah inflasi membaik (0): 21\n",
      "\n",
      "Bulan 07:\n",
      "  Jumlah inflasi naik (2): 44\n",
      "  Jumlah netral (1): 18\n",
      "  Jumlah inflasi membaik (0): 9\n",
      "\n",
      "Bulan 08:\n",
      "  Jumlah inflasi naik (2): 62\n",
      "  Jumlah netral (1): 17\n",
      "  Jumlah inflasi membaik (0): 6\n",
      "\n",
      "Bulan 09:\n",
      "  Jumlah inflasi naik (2): 60\n",
      "  Jumlah netral (1): 21\n",
      "  Jumlah inflasi membaik (0): 21\n",
      "\n",
      "Bulan 10:\n",
      "  Jumlah inflasi naik (2): 38\n",
      "  Jumlah netral (1): 20\n",
      "  Jumlah inflasi membaik (0): 8\n",
      "\n",
      "Bulan 11:\n",
      "  Jumlah inflasi naik (2): 115\n",
      "  Jumlah netral (1): 38\n",
      "  Jumlah inflasi membaik (0): 4\n",
      "\n",
      "Bulan 12:\n",
      "  Jumlah inflasi naik (2): 87\n",
      "  Jumlah netral (1): 33\n",
      "  Jumlah inflasi membaik (0): 4\n",
      "\n"
     ]
    }
   ],
   "source": [
    "import pandas as pd\n",
    "import os\n",
    "\n",
    "# Folder tempat file disimpan\n",
    "folder_path = 'output/2024'\n",
    "\n",
    "# Loop dari bulan 01 sampai 12\n",
    "for month in range(1, 13):\n",
    "    # Format nama file dengan dua digit bulan\n",
    "    file_name = f'prediksi_sentimen_ekspektasi_inflasi_2024_{month:02}V3.xlsx'\n",
    "    file_path = os.path.join(folder_path, file_name)\n",
    "    \n",
    "    try:\n",
    "        # Membaca file Excel\n",
    "        df = pd.read_excel(file_path)\n",
    "\n",
    "        # Hitung jumlah masing-masing label\n",
    "        count_2 = (df['predicted_label'] == 2).sum()\n",
    "        count_1 = (df['predicted_label'] == 1).sum()\n",
    "        count_0 = (df['predicted_label'] == 0).sum()\n",
    "\n",
    "        # Tampilkan hasilnya\n",
    "        print(f'Bulan {month:02}:')\n",
    "        print(f'  Jumlah inflasi naik (2): {count_2}')\n",
    "        print(f'  Jumlah netral (1): {count_1}')\n",
    "        print(f'  Jumlah inflasi membaik (0): {count_0}\\n')\n",
    "\n",
    "    except FileNotFoundError:\n",
    "        print(f'File tidak ditemukan untuk bulan {month:02}: {file_name}\\n')\n"
   ]
  },
  {
   "cell_type": "code",
   "execution_count": 3,
   "id": "6de2d3ee-f32d-4552-86e3-11288c8ddb52",
   "metadata": {},
   "outputs": [
    {
     "name": "stdout",
     "output_type": "stream",
     "text": [
      "Bulan 01:\n",
      "  Jumlah inflasi naik (2): 153\n",
      "  Jumlah netral (1): 28\n",
      "  Jumlah inflasi membaik (0): 8\n",
      "\n",
      "Bulan 02:\n",
      "  Jumlah inflasi naik (2): 98\n",
      "  Jumlah netral (1): 34\n",
      "  Jumlah inflasi membaik (0): 6\n",
      "\n",
      "Bulan 03:\n",
      "  Jumlah inflasi naik (2): 80\n",
      "  Jumlah netral (1): 39\n",
      "  Jumlah inflasi membaik (0): 15\n",
      "\n",
      "Bulan 04:\n",
      "  Jumlah inflasi naik (2): 75\n",
      "  Jumlah netral (1): 12\n",
      "  Jumlah inflasi membaik (0): 12\n",
      "\n",
      "Bulan 05:\n",
      "  Jumlah inflasi naik (2): 52\n",
      "  Jumlah netral (1): 10\n",
      "  Jumlah inflasi membaik (0): 8\n",
      "\n",
      "Bulan 06:\n",
      "  Jumlah inflasi naik (2): 75\n",
      "  Jumlah netral (1): 12\n",
      "  Jumlah inflasi membaik (0): 5\n",
      "\n",
      "Bulan 07:\n",
      "  Jumlah inflasi naik (2): 51\n",
      "  Jumlah netral (1): 21\n",
      "  Jumlah inflasi membaik (0): 21\n",
      "\n",
      "Bulan 08:\n",
      "  Jumlah inflasi naik (2): 69\n",
      "  Jumlah netral (1): 16\n",
      "  Jumlah inflasi membaik (0): 3\n",
      "\n",
      "Bulan 09:\n",
      "  Jumlah inflasi naik (2): 69\n",
      "  Jumlah netral (1): 21\n",
      "  Jumlah inflasi membaik (0): 12\n",
      "\n",
      "Bulan 10:\n",
      "  Jumlah inflasi naik (2): 50\n",
      "  Jumlah netral (1): 18\n",
      "  Jumlah inflasi membaik (0): 4\n",
      "\n",
      "Bulan 11:\n",
      "  Jumlah inflasi naik (2): 56\n",
      "  Jumlah netral (1): 23\n",
      "  Jumlah inflasi membaik (0): 6\n",
      "\n",
      "Bulan 12:\n",
      "  Jumlah inflasi naik (2): 58\n",
      "  Jumlah netral (1): 13\n",
      "  Jumlah inflasi membaik (0): 10\n",
      "\n"
     ]
    }
   ],
   "source": [
    "import pandas as pd\n",
    "import os\n",
    "\n",
    "# Folder tempat file disimpan\n",
    "folder_path = 'output/2023'\n",
    "\n",
    "# Loop dari bulan 01 sampai 12\n",
    "for month in range(1, 13):\n",
    "    # Format nama file dengan dua digit bulan\n",
    "    file_name = f'prediksi_sentimen_ekspektasi_inflasi_2023_{month:02}V3.xlsx'\n",
    "    file_path = os.path.join(folder_path, file_name)\n",
    "    \n",
    "    try:\n",
    "        # Membaca file Excel\n",
    "        df = pd.read_excel(file_path)\n",
    "\n",
    "        # Filter hanya yang confidence > 0.5\n",
    "        df_filtered = df[df['confidence'] > 0.5]\n",
    "\n",
    "        # Hitung jumlah masing-masing label dari data yang sudah difilter\n",
    "        count_2 = (df_filtered['predicted_label'] == 2).sum()\n",
    "        count_1 = (df_filtered['predicted_label'] == 1).sum()\n",
    "        count_0 = (df_filtered['predicted_label'] == 0).sum()\n",
    "\n",
    "        # Tampilkan hasilnya\n",
    "        print(f'Bulan {month:02}:')\n",
    "        print(f'  Jumlah inflasi naik (2): {count_2}')\n",
    "        print(f'  Jumlah netral (1): {count_1}')\n",
    "        print(f'  Jumlah inflasi membaik (0): {count_0}\\n')\n",
    "\n",
    "    except FileNotFoundError:\n",
    "        print(f'File tidak ditemukan untuk bulan {month:02}: {file_name}\\n')"
   ]
  },
  {
   "cell_type": "code",
   "execution_count": 6,
   "id": "b5e11c2c-e0b5-4520-abd2-70a949c11d85",
   "metadata": {},
   "outputs": [
    {
     "name": "stdout",
     "output_type": "stream",
     "text": [
      "jumlah inflasi naik (2) :55\n",
      "jumlah netral (1) :29\n",
      "jumlah inflasi membaik (1) :39\n"
     ]
    }
   ],
   "source": [
    "# Ganti 'nama_file.xlsx' dengan nama file Excel kamu\n",
    "file_path = 'output/2021/prediksi_sentimen_ekspektasi_inflasi_V22021_02.xlsx'\n",
    "\n",
    "# Membaca file Excel\n",
    "df2021 = pd.read_excel(file_path)\n",
    "\n",
    "# Menampilkan 5 baris pertama dari data\n",
    "count_2 = (df2021['predicted_label'] == 2).sum()\n",
    "print('jumlah inflasi naik (2) :' + str(count_2))\n",
    "count_1 = (df2021['predicted_label'] == 1).sum()\n",
    "print('jumlah netral (1) :' + str(count_1))\n",
    "count_0 = (df2021['predicted_label'] == 0).sum()\n",
    "print('jumlah inflasi membaik (1) :' + str(count_0))"
   ]
  },
  {
   "cell_type": "code",
   "execution_count": 7,
   "id": "1fc0df69-e2d6-4485-a01f-68d69294344f",
   "metadata": {},
   "outputs": [
    {
     "name": "stdout",
     "output_type": "stream",
     "text": [
      "jumlah inflasi naik (2) :52\n",
      "jumlah netral (1) :20\n",
      "jumlah inflasi membaik (1) :23\n"
     ]
    }
   ],
   "source": [
    "# Ganti 'nama_file.xlsx' dengan nama file Excel kamu\n",
    "file_path = 'output/2021/prediksi_sentimen_ekspektasi_inflasi_V22021_03.xlsx'\n",
    "\n",
    "# Membaca file Excel\n",
    "df2021 = pd.read_excel(file_path)\n",
    "\n",
    "# Menampilkan 5 baris pertama dari data\n",
    "count_2 = (df2021['predicted_label'] == 2).sum()\n",
    "print('jumlah inflasi naik (2) :' + str(count_2))\n",
    "count_1 = (df2021['predicted_label'] == 1).sum()\n",
    "print('jumlah netral (1) :' + str(count_1))\n",
    "count_0 = (df2021['predicted_label'] == 0).sum()\n",
    "print('jumlah inflasi membaik (1) :' + str(count_0))"
   ]
  },
  {
   "cell_type": "code",
   "execution_count": 8,
   "id": "3db0e2da-77fd-43f3-90ab-0c80ee2422eb",
   "metadata": {},
   "outputs": [
    {
     "name": "stdout",
     "output_type": "stream",
     "text": [
      "jumlah inflasi naik (2) :42\n",
      "jumlah netral (1) :18\n",
      "jumlah inflasi membaik (1) :20\n"
     ]
    }
   ],
   "source": [
    "# Ganti 'nama_file.xlsx' dengan nama file Excel kamu\n",
    "file_path = 'output/2021/prediksi_sentimen_ekspektasi_inflasi_V22021_04.xlsx'\n",
    "\n",
    "# Membaca file Excel\n",
    "df2021 = pd.read_excel(file_path)\n",
    "\n",
    "# Menampilkan 5 baris pertama dari data\n",
    "count_2 = (df2021['predicted_label'] == 2).sum()\n",
    "print('jumlah inflasi naik (2) :' + str(count_2))\n",
    "count_1 = (df2021['predicted_label'] == 1).sum()\n",
    "print('jumlah netral (1) :' + str(count_1))\n",
    "count_0 = (df2021['predicted_label'] == 0).sum()\n",
    "print('jumlah inflasi membaik (1) :' + str(count_0))"
   ]
  },
  {
   "cell_type": "code",
   "execution_count": 9,
   "id": "921b6a85-bd8e-4187-9d08-d9a8ae60b9c8",
   "metadata": {},
   "outputs": [
    {
     "name": "stdout",
     "output_type": "stream",
     "text": [
      "jumlah inflasi naik (2) :60\n",
      "jumlah netral (1) :17\n",
      "jumlah inflasi membaik (1) :26\n"
     ]
    }
   ],
   "source": [
    "# Ganti 'nama_file.xlsx' dengan nama file Excel kamu\n",
    "file_path = 'output/2021/prediksi_sentimen_ekspektasi_inflasi_V22021_05.xlsx'\n",
    "\n",
    "# Membaca file Excel\n",
    "df2021 = pd.read_excel(file_path)\n",
    "\n",
    "# Menampilkan 5 baris pertama dari data\n",
    "count_2 = (df2021['predicted_label'] == 2).sum()\n",
    "print('jumlah inflasi naik (2) :' + str(count_2))\n",
    "count_1 = (df2021['predicted_label'] == 1).sum()\n",
    "print('jumlah netral (1) :' + str(count_1))\n",
    "count_0 = (df2021['predicted_label'] == 0).sum()\n",
    "print('jumlah inflasi membaik (1) :' + str(count_0))"
   ]
  },
  {
   "cell_type": "code",
   "execution_count": 10,
   "id": "2a2a6b91-d302-471d-bea5-b9b232666130",
   "metadata": {},
   "outputs": [
    {
     "name": "stdout",
     "output_type": "stream",
     "text": [
      "jumlah inflasi naik (2) :63\n",
      "jumlah netral (1) :26\n",
      "jumlah inflasi membaik (1) :23\n"
     ]
    }
   ],
   "source": [
    "# Ganti 'nama_file.xlsx' dengan nama file Excel kamu\n",
    "file_path = 'output/2021/prediksi_sentimen_ekspektasi_inflasi_V22021_06.xlsx'\n",
    "\n",
    "# Membaca file Excel\n",
    "df2021 = pd.read_excel(file_path)\n",
    "\n",
    "# Menampilkan 5 baris pertama dari data\n",
    "count_2 = (df2021['predicted_label'] == 2).sum()\n",
    "print('jumlah inflasi naik (2) :' + str(count_2))\n",
    "count_1 = (df2021['predicted_label'] == 1).sum()\n",
    "print('jumlah netral (1) :' + str(count_1))\n",
    "count_0 = (df2021['predicted_label'] == 0).sum()\n",
    "print('jumlah inflasi membaik (1) :' + str(count_0))"
   ]
  },
  {
   "cell_type": "code",
   "execution_count": 11,
   "id": "b8f2fdbb-88dd-4935-aee2-c11abd870153",
   "metadata": {},
   "outputs": [
    {
     "name": "stdout",
     "output_type": "stream",
     "text": [
      "jumlah inflasi naik (2) :53\n",
      "jumlah netral (1) :26\n",
      "jumlah inflasi membaik (1) :20\n"
     ]
    }
   ],
   "source": [
    "# Ganti 'nama_file.xlsx' dengan nama file Excel kamu\n",
    "file_path = 'output/2021/prediksi_sentimen_ekspektasi_inflasi_V22021_07.xlsx'\n",
    "\n",
    "# Membaca file Excel\n",
    "df2021 = pd.read_excel(file_path)\n",
    "\n",
    "# Menampilkan 5 baris pertama dari data\n",
    "count_2 = (df2021['predicted_label'] == 2).sum()\n",
    "print('jumlah inflasi naik (2) :' + str(count_2))\n",
    "count_1 = (df2021['predicted_label'] == 1).sum()\n",
    "print('jumlah netral (1) :' + str(count_1))\n",
    "count_0 = (df2021['predicted_label'] == 0).sum()\n",
    "print('jumlah inflasi membaik (1) :' + str(count_0))"
   ]
  },
  {
   "cell_type": "code",
   "execution_count": 12,
   "id": "f939ef0f-3612-4547-aad2-17ef6815da12",
   "metadata": {},
   "outputs": [
    {
     "name": "stdout",
     "output_type": "stream",
     "text": [
      "jumlah inflasi naik (2) :53\n",
      "jumlah netral (1) :27\n",
      "jumlah inflasi membaik (1) :47\n"
     ]
    }
   ],
   "source": [
    "# Ganti 'nama_file.xlsx' dengan nama file Excel kamu\n",
    "file_path = 'output/2021/prediksi_sentimen_ekspektasi_inflasi_V22021_08.xlsx'\n",
    "\n",
    "# Membaca file Excel\n",
    "df2021 = pd.read_excel(file_path)\n",
    "\n",
    "# Menampilkan 5 baris pertama dari data\n",
    "count_2 = (df2021['predicted_label'] == 2).sum()\n",
    "print('jumlah inflasi naik (2) :' + str(count_2))\n",
    "count_1 = (df2021['predicted_label'] == 1).sum()\n",
    "print('jumlah netral (1) :' + str(count_1))\n",
    "count_0 = (df2021['predicted_label'] == 0).sum()\n",
    "print('jumlah inflasi membaik (1) :' + str(count_0))"
   ]
  },
  {
   "cell_type": "code",
   "execution_count": 13,
   "id": "b14ffa7b-8847-46e3-920d-9e71d3424d56",
   "metadata": {},
   "outputs": [
    {
     "name": "stdout",
     "output_type": "stream",
     "text": [
      "jumlah inflasi naik (2) :41\n",
      "jumlah netral (1) :26\n",
      "jumlah inflasi membaik (1) :19\n"
     ]
    }
   ],
   "source": [
    "# Ganti 'nama_file.xlsx' dengan nama file Excel kamu\n",
    "file_path = 'output/2021/prediksi_sentimen_ekspektasi_inflasi_V22021_09.xlsx'\n",
    "\n",
    "# Membaca file Excel\n",
    "df2021 = pd.read_excel(file_path)\n",
    "\n",
    "# Menampilkan 5 baris pertama dari data\n",
    "count_2 = (df2021['predicted_label'] == 2).sum()\n",
    "print('jumlah inflasi naik (2) :' + str(count_2))\n",
    "count_1 = (df2021['predicted_label'] == 1).sum()\n",
    "print('jumlah netral (1) :' + str(count_1))\n",
    "count_0 = (df2021['predicted_label'] == 0).sum()\n",
    "print('jumlah inflasi membaik (1) :' + str(count_0))"
   ]
  },
  {
   "cell_type": "code",
   "execution_count": 14,
   "id": "e997bb5a-ce47-44e0-942f-ffc3b8e9167c",
   "metadata": {},
   "outputs": [
    {
     "name": "stdout",
     "output_type": "stream",
     "text": [
      "jumlah inflasi naik (2) :100\n",
      "jumlah netral (1) :21\n",
      "jumlah inflasi membaik (1) :26\n"
     ]
    }
   ],
   "source": [
    "# Ganti 'nama_file.xlsx' dengan nama file Excel kamu\n",
    "file_path = 'output/2021/prediksi_sentimen_ekspektasi_inflasi_V22021_10.xlsx'\n",
    "\n",
    "# Membaca file Excel\n",
    "df2021 = pd.read_excel(file_path)\n",
    "\n",
    "# Menampilkan 5 baris pertama dari data\n",
    "count_2 = (df2021['predicted_label'] == 2).sum()\n",
    "print('jumlah inflasi naik (2) :' + str(count_2))\n",
    "count_1 = (df2021['predicted_label'] == 1).sum()\n",
    "print('jumlah netral (1) :' + str(count_1))\n",
    "count_0 = (df2021['predicted_label'] == 0).sum()\n",
    "print('jumlah inflasi membaik (1) :' + str(count_0))"
   ]
  },
  {
   "cell_type": "code",
   "execution_count": 15,
   "id": "a144afe2-256c-4744-a819-89ea99cc3b52",
   "metadata": {},
   "outputs": [
    {
     "name": "stdout",
     "output_type": "stream",
     "text": [
      "jumlah inflasi naik (2) :87\n",
      "jumlah netral (1) :42\n",
      "jumlah inflasi membaik (1) :40\n"
     ]
    }
   ],
   "source": [
    "# Ganti 'nama_file.xlsx' dengan nama file Excel kamu\n",
    "file_path = 'output/2021/prediksi_sentimen_ekspektasi_inflasi_V22021_11.xlsx'\n",
    "\n",
    "# Membaca file Excel\n",
    "df2021 = pd.read_excel(file_path)\n",
    "\n",
    "# Menampilkan 5 baris pertama dari data\n",
    "count_2 = (df2021['predicted_label'] == 2).sum()\n",
    "print('jumlah inflasi naik (2) :' + str(count_2))\n",
    "count_1 = (df2021['predicted_label'] == 1).sum()\n",
    "print('jumlah netral (1) :' + str(count_1))\n",
    "count_0 = (df2021['predicted_label'] == 0).sum()\n",
    "print('jumlah inflasi membaik (1) :' + str(count_0))"
   ]
  },
  {
   "cell_type": "code",
   "execution_count": 16,
   "id": "8eb05734-36a5-43f6-8d0e-d3a7391edb5b",
   "metadata": {},
   "outputs": [
    {
     "name": "stdout",
     "output_type": "stream",
     "text": [
      "jumlah inflasi naik (2) :76\n",
      "jumlah netral (1) :37\n",
      "jumlah inflasi membaik (1) :40\n"
     ]
    }
   ],
   "source": [
    "# Ganti 'nama_file.xlsx' dengan nama file Excel kamu\n",
    "file_path = 'output/2021/prediksi_sentimen_ekspektasi_inflasi_V22021_12.xlsx'\n",
    "\n",
    "# Membaca file Excel\n",
    "df2021 = pd.read_excel(file_path)\n",
    "\n",
    "# Menampilkan 5 baris pertama dari data\n",
    "count_2 = (df2021['predicted_label'] == 2).sum()\n",
    "print('jumlah inflasi naik (2) :' + str(count_2))\n",
    "count_1 = (df2021['predicted_label'] == 1).sum()\n",
    "print('jumlah netral (1) :' + str(count_1))\n",
    "count_0 = (df2021['predicted_label'] == 0).sum()\n",
    "print('jumlah inflasi membaik (1) :' + str(count_0))"
   ]
  },
  {
   "cell_type": "code",
   "execution_count": 25,
   "id": "2e2fee6c-7bfe-43fd-8509-d66d81ab35f6",
   "metadata": {},
   "outputs": [
    {
     "name": "stdout",
     "output_type": "stream",
     "text": [
      "jumlah positif (1) :65\n",
      "jumlah negatif (0) :104\n"
     ]
    }
   ],
   "source": [
    "# Ganti 'nama_file.xlsx' dengan nama file Excel kamu\n",
    "file_path = 'output/2022/prediksi_sentimen_ekspektasi_inflasi_V22022_12.xlsx'\n",
    "\n",
    "# Membaca file Excel\n",
    "df2021 = pd.read_excel(file_path)\n",
    "\n",
    "# Menampilkan 5 baris pertama dari data\n",
    "count_2 = (df2021['predicted_label'] == 2).sum()\n",
    "print('jumlah inflasi naik (2) :' + str(count_2))\n",
    "count_1 = (df2021['predicted_label'] == 1).sum()\n",
    "print('jumlah netral (1) :' + str(count_1))\n",
    "count_0 = (df2021['predicted_label'] == 0).sum()\n",
    "print('jumlah inflasi membaik (1) :' + str(count_0))"
   ]
  },
  {
   "cell_type": "code",
   "execution_count": 26,
   "id": "dc418d6b-a7c7-4b4b-b963-12a984244abd",
   "metadata": {},
   "outputs": [
    {
     "name": "stdout",
     "output_type": "stream",
     "text": [
      "jumlah positif (1) :51\n",
      "jumlah negatif (0) :102\n"
     ]
    }
   ],
   "source": [
    "# Ganti 'nama_file.xlsx' dengan nama file Excel kamu\n",
    "file_path = 'output/2021/prediksi_sentimen_ekspektasi_inflasi_2021_12.xlsx'\n",
    "# Membaca file Excel\n",
    "df2021 = pd.read_excel(file_path)\n",
    "\n",
    "count_1 = (df2021['predicted_label'] == 1).sum()\n",
    "print('jumlah positif (1) :' + str(count_1))\n",
    "count_0 = (df2021['predicted_label'] == 0).sum()\n",
    "print('jumlah negatif (0) :' + str(count_0))"
   ]
  },
  {
   "cell_type": "code",
   "execution_count": null,
   "id": "930bec2f-4fbf-4dcd-bd75-158e23ae9dac",
   "metadata": {},
   "outputs": [],
   "source": []
  }
 ],
 "metadata": {
  "kernelspec": {
   "display_name": "Python 3 (ipykernel)",
   "language": "python",
   "name": "python3"
  },
  "language_info": {
   "codemirror_mode": {
    "name": "ipython",
    "version": 3
   },
   "file_extension": ".py",
   "mimetype": "text/x-python",
   "name": "python",
   "nbconvert_exporter": "python",
   "pygments_lexer": "ipython3",
   "version": "3.12.7"
  }
 },
 "nbformat": 4,
 "nbformat_minor": 5
}
